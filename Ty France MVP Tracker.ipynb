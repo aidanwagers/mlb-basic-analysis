{
 "cells": [
  {
   "cell_type": "markdown",
   "id": "ec1af655",
   "metadata": {
    "toc": true
   },
   "source": [
    "<h1>Table of Contents<span class=\"tocSkip\"></span></h1>\n",
    "<div class=\"toc\"><ul class=\"toc-item\"><li><span><a href=\"#Functions\" data-toc-modified-id=\"Functions-1\"><span class=\"toc-item-num\">1&nbsp;&nbsp;</span>Functions</a></span></li><li><span><a href=\"#Get-MVP-Benchmarks\" data-toc-modified-id=\"Get-MVP-Benchmarks-2\"><span class=\"toc-item-num\">2&nbsp;&nbsp;</span>Get MVP Benchmarks</a></span></li><li><span><a href=\"#Ty-France\" data-toc-modified-id=\"Ty-France-3\"><span class=\"toc-item-num\">3&nbsp;&nbsp;</span>Ty France</a></span></li><li><span><a href=\"#Normalize-stats-to-full-season\" data-toc-modified-id=\"Normalize-stats-to-full-season-4\"><span class=\"toc-item-num\">4&nbsp;&nbsp;</span>Normalize stats to full season</a></span></li><li><span><a href=\"#Compare-against-MVP-stats\" data-toc-modified-id=\"Compare-against-MVP-stats-5\"><span class=\"toc-item-num\">5&nbsp;&nbsp;</span>Compare against MVP stats</a></span></li></ul></div>"
   ]
  },
  {
   "cell_type": "code",
   "execution_count": 1,
   "id": "1756224a",
   "metadata": {},
   "outputs": [],
   "source": [
    "import requests\n",
    "import time\n",
    "import pandas as pd\n",
    "# import mlbstatsapi\n",
    "import statsapi\n",
    "from bs4 import BeautifulSoup"
   ]
  },
  {
   "cell_type": "markdown",
   "id": "78474206",
   "metadata": {},
   "source": [
    "# Functions"
   ]
  },
  {
   "cell_type": "code",
   "execution_count": null,
   "id": "87fe44af",
   "metadata": {},
   "outputs": [],
   "source": []
  },
  {
   "cell_type": "markdown",
   "id": "61312f11",
   "metadata": {},
   "source": [
    "# Get MVP Benchmarks"
   ]
  },
  {
   "cell_type": "code",
   "execution_count": 2,
   "id": "125b14ff",
   "metadata": {},
   "outputs": [],
   "source": [
    "mvp_data = pd.read_csv(\"MVP Stats.txt\", header = 0)\n",
    "\n",
    "mvp_data.columns = mvp_data.iloc[0]\n",
    "mvp_data = mvp_data[1:]\n",
    "\n",
    "mvp_data.replace(\"NaN\",pd.NA, inplace= True)\n",
    "\n",
    "mvp_data = mvp_data.dropna(subset=['Year'])"
   ]
  },
  {
   "cell_type": "code",
   "execution_count": 7,
   "id": "653a012c",
   "metadata": {},
   "outputs": [],
   "source": [
    "al_mvps = mvp_data[mvp_data['Lg'] == \"AL\"]"
   ]
  },
  {
   "cell_type": "code",
   "execution_count": 9,
   "id": "34dfdf7d",
   "metadata": {},
   "outputs": [],
   "source": [
    "offensive_stats = ['WAR','BA','OBP','SLG','HR','RBI','SB']"
   ]
  },
  {
   "cell_type": "code",
   "execution_count": 13,
   "id": "630d0d1b",
   "metadata": {},
   "outputs": [],
   "source": [
    "mvp_aves = {}\n",
    "for stat in offensive_stats:\n",
    "    mvp_data[stat] = mvp_data[stat].astype(float)\n",
    "    mvp_aves[stat] = mvp_data[stat].mean()"
   ]
  },
  {
   "cell_type": "code",
   "execution_count": 28,
   "id": "729e62c2",
   "metadata": {},
   "outputs": [
    {
     "data": {
      "text/plain": [
       "{'WAR': 7.648815165876778,\n",
       " 'BA': 0.3118260869565217,\n",
       " 'OBP': 0.39242512077294683,\n",
       " 'SLG': 0.546816425120773,\n",
       " 'HR': 28.685990338164252,\n",
       " 'RBI': 102.3671497584541,\n",
       " 'SB': 13.202898550724637}"
      ]
     },
     "execution_count": 28,
     "metadata": {},
     "output_type": "execute_result"
    }
   ],
   "source": [
    "mvp_aves"
   ]
  },
  {
   "cell_type": "markdown",
   "id": "484a8a97",
   "metadata": {},
   "source": [
    "# Ty France"
   ]
  },
  {
   "cell_type": "code",
   "execution_count": 15,
   "id": "8fb43411",
   "metadata": {},
   "outputs": [],
   "source": [
    "ty_france = statsapi.player_stat_data(664034, group=\"[hitting,fielding]\", type=\"season\", sportId=1)"
   ]
  },
  {
   "cell_type": "code",
   "execution_count": 32,
   "id": "37c300a8",
   "metadata": {},
   "outputs": [],
   "source": [
    "offensive_stats_2 = ['avg','obp','slg','homeRuns','rbi','stolenBases']\n",
    "ty_games = ty_france['stats'][0]['stats']['gamesPlayed']\n",
    "france_stats = {}\n",
    "\n",
    "for group in ty_france['stats']:\n",
    "    if group['group'] == 'hitting':\n",
    "        for stat in offensive_stats_2:\n",
    "            france_stats[stat] = group['stats'][stat]\n",
    "    else:\n",
    "        continue\n",
    "        \n",
    "        "
   ]
  },
  {
   "cell_type": "markdown",
   "id": "b9b6e1a8",
   "metadata": {},
   "source": [
    "# Normalize stats to full season"
   ]
  },
  {
   "cell_type": "code",
   "execution_count": 43,
   "id": "b3dbfa4c",
   "metadata": {},
   "outputs": [],
   "source": [
    "# Normalizing stats to 150 games played\n",
    "ave_games = 150\n",
    "\n",
    "normalize_number = ave_games/ty_games"
   ]
  },
  {
   "cell_type": "code",
   "execution_count": 46,
   "id": "e38e61e0",
   "metadata": {},
   "outputs": [],
   "source": [
    "france_season = france_stats\n",
    "\n",
    "for stat in france_season:\n",
    "    if stat == \"homeRuns\" or stat == \"rbi\" or stat == 'stolenBases':\n",
    "        france_season[stat] = france_season[stat] * normalize_number"
   ]
  },
  {
   "cell_type": "markdown",
   "id": "cd23b5d8",
   "metadata": {},
   "source": [
    "#  Compare against MVP stats"
   ]
  },
  {
   "cell_type": "code",
   "execution_count": null,
   "id": "154902b3",
   "metadata": {},
   "outputs": [],
   "source": []
  }
 ],
 "metadata": {
  "kernelspec": {
   "display_name": "Python 3 (ipykernel)",
   "language": "python",
   "name": "python3"
  },
  "language_info": {
   "codemirror_mode": {
    "name": "ipython",
    "version": 3
   },
   "file_extension": ".py",
   "mimetype": "text/x-python",
   "name": "python",
   "nbconvert_exporter": "python",
   "pygments_lexer": "ipython3",
   "version": "3.9.12"
  },
  "toc": {
   "base_numbering": 1,
   "nav_menu": {},
   "number_sections": true,
   "sideBar": true,
   "skip_h1_title": false,
   "title_cell": "Table of Contents",
   "title_sidebar": "Contents",
   "toc_cell": true,
   "toc_position": {},
   "toc_section_display": true,
   "toc_window_display": false
  }
 },
 "nbformat": 4,
 "nbformat_minor": 5
}
